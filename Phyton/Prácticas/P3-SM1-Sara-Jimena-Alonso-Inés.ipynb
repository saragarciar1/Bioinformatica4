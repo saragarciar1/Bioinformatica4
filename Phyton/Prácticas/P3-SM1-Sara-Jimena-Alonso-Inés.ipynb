{
 "cells": [
  {
   "cell_type": "markdown",
   "id": "e87fdfc4",
   "metadata": {},
   "source": [
    "# PRACTICA JUEGO CONDICIONALES BUCLES\n",
    "\n",
    "\n",
    "## JUEGO DE ADIVINANZAS\n",
    "\n",
    "#### Escribe un programa que coja un número entero del 1 al 100, y los jugadores tienen que tratar de adivinar el número.\n",
    "\n",
    "#### Las reglas son las siguientes:\n",
    "\n",
    "1. Si un jugador escoje un número menor que 1 o mayor que 100, el programa dice \"FUERA DE LÍMITES\"\n",
    "2. En el primer turno del jugador, si está en un rango de 10 del número dice \"¡CALIENTE!\". Si está fuera de ese rango dice \"¡FRIO!\"\n",
    "3. En todas las rondas siguientes, si el jugador se acerca más que la vez anterior, dice \"¡MAS CALIENTE!\". Si está más lejos que la anterior vez dice \"¡MAS FRIO!\"\n",
    "4. Cuando el jugador acierte el número, les dirá que han acertado y cuántos intentos les ha llevado\n",
    "\n",
    "\n",
    "\n"
   ]
  },
  {
   "cell_type": "markdown",
   "id": "1ea418c3",
   "metadata": {},
   "source": [
    "##### PISTAS\n",
    "1. Trata obtener un número aleatorio entre el 1 y el 100\n",
    "2. Haz una introducción de tu juego y explica las reglas\n",
    "3. Crea una lista que almacene los intentos. \n",
    "4. Haz un bucle que evalúe un número. Prueba que funcione primero. While podría ir bien\n",
    "5. Modifica ese bucle para que compare nuestro número con el intento. Si se acierta usa break, si no puedes usar continue y tienes que seguir preguntando al jugador por nuevos intentos"
   ]
  },
  {
   "cell_type": "code",
   "execution_count": null,
   "id": "bb268235-1681-4da9-beac-6ec16f82f669",
   "metadata": {},
   "outputs": [
    {
     "name": "stdout",
     "output_type": "stream",
     "text": [
      "Hola vamos a jugar a un juego, elige un número entre 1 y 100.\n",
      "Si eliges un nÚmero que sea menor que 1 o mayor que 100, te diré ¡FUERA DE LÍMITES!\n",
      "En tu primer intento si estas dentro de un rango de 10 del número, te diré ¡CALIENTE!\n",
      "En todas las rondas siguientes si te acercas más que la vez anterior te dire ¡MÁS CALIENTE!\n",
      "Cuando aciertes el número, te dire que has acertado y el número de intentos que has jugado hasta adivinarlo\n"
     ]
    }
   ],
   "source": [
    "def di_hola():\n",
    "    print ('Hola vamos a jugar a un juego, elige un número entre 1 y 100.')\n",
    "    print ('Si eliges un nÚmero que sea menor que 1 o mayor que 100, te diré ¡FUERA DE LÍMITES!')\n",
    "    print ('En tu primer intento si estas dentro de un rango de 10 del número, te diré ¡CALIENTE!')\n",
    "    print ('En todas las rondas siguientes si te acercas más que la vez anterior te dire ¡MÁS CALIENTE!')\n",
    "    print ('Cuando aciertes el número, te dire que has acertado y el número de intentos que has jugado hasta adivinarlo')\n",
    "di_hola()\n",
    "import random\n",
    "numero_aleatorio =random.randint (1,100)\n",
    "lista_intentos =[]\n",
    "intentos_realizados = 0\n",
    "while True:\n",
    "    try: \n",
    "        intento = int(input(\"Introduce tu numero: \"))\n",
    "    except ValueError:\n",
    "        print(\"Por favor, introduce un número válido\")\n",
    "        continue\n",
    "    if intento <1 or intento > 100:\n",
    "        print (\"¡FUERA DE LÍMITES!\")\n",
    "        continue\n",
    "        \n",
    "    lista_intentos.append(intento)\n",
    "    \n",
    "    if len(lista_intentos)==1:\n",
    "        if abs (intento - numero_aleatorio) <=10:\n",
    "            print (\"¡CALIENTE!\")\n",
    "            continue\n",
    "        else:\n",
    "            print (\"¡FRÍO!\")\n",
    "\n",
    "    else: \n",
    "        if abs(intento - numero_aleatorio) < abs(lista_intentos[-2] - numero_aleatorio):\n",
    "            print(\"¡MÁS CALIENTE!\")\n",
    "        else:\n",
    "            print(\"¡MÁS FRÍO!\")\n",
    "\n",
    "    if intento == numero_aleatorio:\n",
    "        print (f\"Felicidades, has adivinado el {numero_aleatorio} en {len(lista_intentos)} intentos\")\n",
    "        break"
   ]
  },
  {
   "cell_type": "code",
   "execution_count": null,
   "id": "2a2fd93f-6753-4958-bf8c-4ff6a723eb09",
   "metadata": {},
   "outputs": [],
   "source": []
  }
 ],
 "metadata": {
  "kernelspec": {
   "display_name": "Python 3 (ipykernel)",
   "language": "python",
   "name": "python3"
  },
  "language_info": {
   "codemirror_mode": {
    "name": "ipython",
    "version": 3
   },
   "file_extension": ".py",
   "mimetype": "text/x-python",
   "name": "python",
   "nbconvert_exporter": "python",
   "pygments_lexer": "ipython3",
   "version": "3.12.4"
  }
 },
 "nbformat": 4,
 "nbformat_minor": 5
}
