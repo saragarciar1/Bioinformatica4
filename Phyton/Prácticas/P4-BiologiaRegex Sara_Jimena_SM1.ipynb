{
 "cells": [
  {
   "cell_type": "markdown",
   "id": "985e6f9b",
   "metadata": {},
   "source": [
    "# PRACTICA 4\n",
    "\n",
    "### Resuelve los siguientes ejercicios"
   ]
  },
  {
   "cell_type": "markdown",
   "id": "28748e51",
   "metadata": {},
   "source": [
    "##### 1.- Abre el fichero dna.txt, guarda una lista del contenido del archivo. Devuelve su longitud y su primer caracter"
   ]
  },
  {
   "cell_type": "code",
   "execution_count": 280,
   "id": "e60bb40c-20bf-471d-88c9-fed590cd357a",
   "metadata": {},
   "outputs": [
    {
     "data": {
      "text/plain": [
       "123"
      ]
     },
     "execution_count": 280,
     "metadata": {},
     "output_type": "execute_result"
    }
   ],
   "source": [
    "archivo = open('dna.txt')\n",
    "contenido = archivo.readlines()\n",
    "secuencia = contenido[0]\n",
    "secuencia\n",
    "len(secuencia)\n"
   ]
  },
  {
   "cell_type": "code",
   "execution_count": 282,
   "id": "1e7adca6-6bf0-47bc-9656-7930d50859a6",
   "metadata": {},
   "outputs": [
    {
     "data": {
      "text/plain": [
       "'A'"
      ]
     },
     "execution_count": 282,
     "metadata": {},
     "output_type": "execute_result"
    }
   ],
   "source": [
    "secuencia[0]"
   ]
  },
  {
   "cell_type": "markdown",
   "id": "9b87396a",
   "metadata": {},
   "source": [
    "##### 2.- Crea dos archivos. Uno almacena los accession que empiezen por 'a' y el otro el resto"
   ]
  },
  {
   "cell_type": "code",
   "execution_count": 285,
   "id": "73957856",
   "metadata": {},
   "outputs": [],
   "source": [
    "accs = ['ab56', 'bh84', 'hv76', 'ay93', 'ap97', 'bd72']"
   ]
  },
  {
   "cell_type": "code",
   "execution_count": 287,
   "id": "8f62bc8f",
   "metadata": {},
   "outputs": [],
   "source": [
    "accs_aincluida =[acc for acc in accs if acc.startswith ('a')]\n",
    "with open ('accs_aincluida.txt','w') as archivo_con_a:\n",
    "    for acc in accs_aincluida:\n",
    "        archivo_con_a.write(f\"{acc}\\n\")\n",
    "\n",
    "accs_resto=[acc for acc in accs if not acc.startswith ('a')]\n",
    "with open ('accs_resto.txt','w') as archivo_resto:\n",
    "    for acc in accs_resto:\n",
    "        archivo_resto.write (f\"{acc}\\n\")"
   ]
  },
  {
   "cell_type": "markdown",
   "id": "9cbb4adf",
   "metadata": {},
   "source": [
    "##### 3.- Imprime solamente los accessions de la lista anterior que empiecen por 'a' y no acaben con '6'. Pista: usa endswith() y startswidth()"
   ]
  },
  {
   "cell_type": "code",
   "execution_count": 290,
   "id": "b32ca419",
   "metadata": {},
   "outputs": [
    {
     "name": "stdout",
     "output_type": "stream",
     "text": [
      "ay93\n",
      "ap97\n"
     ]
    }
   ],
   "source": [
    "for accs in accs:\n",
    "    if accs.lower().startswith('a') and not accs.endswith('6'):\n",
    "        print (accs)"
   ]
  },
  {
   "cell_type": "markdown",
   "id": "42c397b0",
   "metadata": {},
   "source": [
    "##### 4.- Escribe una función que cuente el porcentaje de A de una secuencia"
   ]
  },
  {
   "cell_type": "code",
   "execution_count": 293,
   "id": "da633510",
   "metadata": {},
   "outputs": [
    {
     "data": {
      "text/plain": [
       "26.82926829268293"
      ]
     },
     "execution_count": 293,
     "metadata": {},
     "output_type": "execute_result"
    }
   ],
   "source": [
    "def porcentaje_A(secuencia):\n",
    "    secuencia = secuencia.upper()\n",
    "    conteo_A = secuencia.count ('A')\n",
    "    porcentaje = (conteo_A / len(secuencia)) *100\n",
    "    return porcentaje\n",
    "porcentaje_A (secuencia)"
   ]
  },
  {
   "cell_type": "markdown",
   "id": "054b8f51",
   "metadata": {},
   "source": [
    "##### ¿Puedes hacer que devuelva dos decimales? ¿Y que lidie con mayúsculas y minúsculas?"
   ]
  },
  {
   "cell_type": "code",
   "execution_count": 296,
   "id": "dc1d5907",
   "metadata": {},
   "outputs": [
    {
     "data": {
      "text/plain": [
       "26.83"
      ]
     },
     "execution_count": 296,
     "metadata": {},
     "output_type": "execute_result"
    }
   ],
   "source": [
    "def porcentaje_A(secuencia):\n",
    "    secuencia = secuencia.upper()\n",
    "    conteo_A = secuencia.count ('A')\n",
    "    porcentaje = (conteo_A / len(secuencia)) *100\n",
    "    return round (porcentaje,2)\n",
    "porcentaje_A (secuencia)"
   ]
  },
  {
   "cell_type": "markdown",
   "id": "36a03b5f",
   "metadata": {},
   "source": [
    "##### ¿Y que devuelva el número de decimales que yo quiero?"
   ]
  },
  {
   "cell_type": "code",
   "execution_count": 299,
   "id": "1ac51951",
   "metadata": {},
   "outputs": [
    {
     "name": "stdout",
     "output_type": "stream",
     "text": [
      "26.829\n"
     ]
    }
   ],
   "source": [
    "def porcentaje_A(secuencia, sig_figs):\n",
    "    secuencia = secuencia.upper()\n",
    "    conteo_A = secuencia.count ('A')\n",
    "    porcentaje = (conteo_A / len(secuencia)) *100\n",
    "    return round (porcentaje,sig_figs)\n",
    "test_dna = (secuencia)\n",
    "print (porcentaje_A (test_dna, sig_figs =3))"
   ]
  },
  {
   "cell_type": "markdown",
   "id": "2c811d84",
   "metadata": {},
   "source": [
    "##### ¿Sabes poner un valor por defecto en un argumento?"
   ]
  },
  {
   "cell_type": "code",
   "execution_count": 302,
   "id": "60981086",
   "metadata": {},
   "outputs": [
    {
     "data": {
      "text/plain": [
       "26.8"
      ]
     },
     "execution_count": 302,
     "metadata": {},
     "output_type": "execute_result"
    }
   ],
   "source": [
    "def porcentaje_A(secuencia, decimal=3):\n",
    "    secuencia = secuencia.upper()\n",
    "    conteo_A = secuencia.count ('A')\n",
    "    porcentaje = (conteo_A / len(secuencia)) *100\n",
    "    return round (porcentaje,decimal)\n",
    "#test_dna = (secuencia)\n",
    "porcentaje_A(secuencia,1)"
   ]
  },
  {
   "cell_type": "markdown",
   "id": "ab2c106c",
   "metadata": {},
   "source": [
    "##### ¿Qué pasa si no ponemos un argumento? ¿Sabrías hacer una función encapsulada?"
   ]
  },
  {
   "cell_type": "code",
   "execution_count": 305,
   "id": "b155dc1e",
   "metadata": {},
   "outputs": [
    {
     "ename": "UnboundLocalError",
     "evalue": "cannot access local variable 'secuencia' where it is not associated with a value",
     "output_type": "error",
     "traceback": [
      "\u001b[1;31m---------------------------------------------------------------------------\u001b[0m",
      "\u001b[1;31mUnboundLocalError\u001b[0m                         Traceback (most recent call last)",
      "Cell \u001b[1;32mIn[305], line 6\u001b[0m\n\u001b[0;32m      4\u001b[0m     porcentaje \u001b[38;5;241m=\u001b[39m (conteo_A \u001b[38;5;241m/\u001b[39m \u001b[38;5;28mlen\u001b[39m(secuencia)) \u001b[38;5;241m*\u001b[39m\u001b[38;5;241m100\u001b[39m\n\u001b[0;32m      5\u001b[0m     \u001b[38;5;28;01mreturn\u001b[39;00m \u001b[38;5;28mround\u001b[39m (porcentaje)\n\u001b[1;32m----> 6\u001b[0m porcentaje_A()\n",
      "Cell \u001b[1;32mIn[305], line 2\u001b[0m, in \u001b[0;36mporcentaje_A\u001b[1;34m()\u001b[0m\n\u001b[0;32m      1\u001b[0m \u001b[38;5;28;01mdef\u001b[39;00m \u001b[38;5;21mporcentaje_A\u001b[39m():\n\u001b[1;32m----> 2\u001b[0m     secuencia \u001b[38;5;241m=\u001b[39m secuencia\u001b[38;5;241m.\u001b[39mupper()\n\u001b[0;32m      3\u001b[0m     conteo_A \u001b[38;5;241m=\u001b[39m secuencia\u001b[38;5;241m.\u001b[39mcount (\u001b[38;5;124m'\u001b[39m\u001b[38;5;124mA\u001b[39m\u001b[38;5;124m'\u001b[39m)\n\u001b[0;32m      4\u001b[0m     porcentaje \u001b[38;5;241m=\u001b[39m (conteo_A \u001b[38;5;241m/\u001b[39m \u001b[38;5;28mlen\u001b[39m(secuencia)) \u001b[38;5;241m*\u001b[39m\u001b[38;5;241m100\u001b[39m\n",
      "\u001b[1;31mUnboundLocalError\u001b[0m: cannot access local variable 'secuencia' where it is not associated with a value"
     ]
    }
   ],
   "source": [
    "def porcentaje_A():\n",
    "    secuencia = secuencia.upper()\n",
    "    conteo_A = secuencia.count ('A')\n",
    "    porcentaje = (conteo_A / len(secuencia)) *100\n",
    "    return round (porcentaje)\n",
    "porcentaje_A()"
   ]
  },
  {
   "cell_type": "markdown",
   "id": "83af4b0f",
   "metadata": {},
   "source": [
    "##### Testea tu función original con assert"
   ]
  },
  {
   "cell_type": "code",
   "execution_count": 308,
   "id": "2bf31b44",
   "metadata": {},
   "outputs": [
    {
     "data": {
      "text/plain": [
       "27"
      ]
     },
     "execution_count": 308,
     "metadata": {},
     "output_type": "execute_result"
    }
   ],
   "source": [
    "def porcentaje_A(secuencia):\n",
    "    secuencia = secuencia.upper()\n",
    "    conteo_A = secuencia.count ('A')\n",
    "    porcentaje = (conteo_A / len(secuencia)) *100\n",
    "    return round (porcentaje)\n",
    "porcentaje_A (secuencia)\n",
    "\n"
   ]
  },
  {
   "cell_type": "code",
   "execution_count": 310,
   "id": "f7055ee0-1188-4d06-8812-76ac1dd4e6b5",
   "metadata": {},
   "outputs": [],
   "source": [
    "assert porcentaje_A (\"atgc\") == 25.0"
   ]
  },
  {
   "cell_type": "code",
   "execution_count": 266,
   "id": "d5acdd4b-de5b-40e0-9d0e-556ecf2b14c1",
   "metadata": {},
   "outputs": [],
   "source": [
    "##PREGUNTA 5 (LO HE BORRADO SIN QUERER)"
   ]
  },
  {
   "cell_type": "code",
   "execution_count": 333,
   "id": "6388ac75",
   "metadata": {},
   "outputs": [],
   "source": [
    "import re"
   ]
  },
  {
   "cell_type": "code",
   "execution_count": 335,
   "id": "d00d3ce7",
   "metadata": {},
   "outputs": [],
   "source": [
    "accs = ['xkn59438', 'yhdck2', 'eihd39d9', 'chdsye847', 'hedle3455', 'xjhd53e', '45da', 'de37dp']"
   ]
  },
  {
   "cell_type": "code",
   "execution_count": 337,
   "id": "ff0bbda4-efe4-4872-a2eb-e4462df83c99",
   "metadata": {},
   "outputs": [
    {
     "name": "stdout",
     "output_type": "stream",
     "text": [
      "xkn59438\n",
      "hedle3455\n",
      "xjhd53e\n",
      "45da\n"
     ]
    }
   ],
   "source": [
    "for i in accs:\n",
    "    if re.search(r'5',i):\n",
    "        print(i)"
   ]
  },
  {
   "cell_type": "code",
   "execution_count": 339,
   "id": "1dd60634-fae9-4ef3-b8ef-a5660a09bf6f",
   "metadata": {},
   "outputs": [
    {
     "name": "stdout",
     "output_type": "stream",
     "text": [
      "yhdck2\n",
      "eihd39d9\n",
      "chdsye847\n",
      "hedle3455\n",
      "xjhd53e\n",
      "45da\n",
      "de37dp\n"
     ]
    }
   ],
   "source": [
    "for i in accs:\n",
    "    if re.search(r'(e|d)',i):\n",
    "        print(i)"
   ]
  },
  {
   "cell_type": "code",
   "execution_count": 341,
   "id": "cd1a8184-dbf6-4563-9db7-84a396833418",
   "metadata": {
    "scrolled": true
   },
   "outputs": [
    {
     "name": "stdout",
     "output_type": "stream",
     "text": [
      "de37dp\n"
     ]
    }
   ],
   "source": [
    "for i in accs:\n",
    "    if re.search(r'de',i):\n",
    "        print(i)"
   ]
  },
  {
   "cell_type": "code",
   "execution_count": 329,
   "id": "f3264d24-8e28-4d27-a476-f8b10f529eca",
   "metadata": {},
   "outputs": [
    {
     "name": "stdout",
     "output_type": "stream",
     "text": [
      "hedle3455\n"
     ]
    }
   ],
   "source": [
    "for i in accs:\n",
    "    if re.search(r'd.{1}e',i):\n",
    "        print(i)"
   ]
  },
  {
   "cell_type": "code",
   "execution_count": 377,
   "id": "d3fd1d74-ea8a-4c25-aaa7-26b14e08b14c",
   "metadata": {},
   "outputs": [
    {
     "name": "stdout",
     "output_type": "stream",
     "text": [
      "de37dp\n"
     ]
    }
   ],
   "source": [
    "for i in accs:\n",
    "    if re.search(r'de' or 'ed',i):\n",
    "        print(i)"
   ]
  },
  {
   "cell_type": "code",
   "execution_count": 345,
   "id": "f15a8ac8-16ac-4f9f-ae96-b323bfd74d05",
   "metadata": {},
   "outputs": [
    {
     "name": "stdout",
     "output_type": "stream",
     "text": [
      "yhdck2\n"
     ]
    }
   ],
   "source": [
    "for i in accs:\n",
    "    if re.search(r'^x' and'^y',i):\n",
    "        print(i)"
   ]
  },
  {
   "cell_type": "code",
   "execution_count": 371,
   "id": "cb280493-ad9e-4bf2-aeb5-b4c7deab19b1",
   "metadata": {},
   "outputs": [
    {
     "name": "stdout",
     "output_type": "stream",
     "text": [
      "xjhd53e\n"
     ]
    }
   ],
   "source": [
    "for i in accs:\n",
    "    if re.search(r'^(x|y)',i) and i.endswith('e'):\n",
    "        print(i)"
   ]
  },
  {
   "cell_type": "code",
   "execution_count": 375,
   "id": "63d3b68f-4b52-44e2-8e94-7c4700395286",
   "metadata": {},
   "outputs": [
    {
     "name": "stdout",
     "output_type": "stream",
     "text": [
      "xkn59438\n",
      "chdsye847\n",
      "hedle3455\n"
     ]
    }
   ],
   "source": [
    "for i in accs:\n",
    "    if re.search(r'\\d{3}',i):\n",
    "        print(i)"
   ]
  },
  {
   "cell_type": "code",
   "execution_count": 383,
   "id": "8aca3dc3-62c4-4c26-a22d-da1d6c0f7373",
   "metadata": {},
   "outputs": [
    {
     "name": "stdout",
     "output_type": "stream",
     "text": [
      "45da\n",
      "de37dp\n"
     ]
    }
   ],
   "source": [
    "for i in accs:\n",
    "    if re.search(r'd[arp]$',i):\n",
    "        print(i)"
   ]
  }
 ],
 "metadata": {
  "kernelspec": {
   "display_name": "Python 3 (ipykernel)",
   "language": "python",
   "name": "python3"
  },
  "language_info": {
   "codemirror_mode": {
    "name": "ipython",
    "version": 3
   },
   "file_extension": ".py",
   "mimetype": "text/x-python",
   "name": "python",
   "nbconvert_exporter": "python",
   "pygments_lexer": "ipython3",
   "version": "3.12.4"
  }
 },
 "nbformat": 4,
 "nbformat_minor": 5
}
